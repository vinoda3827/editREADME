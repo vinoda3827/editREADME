{
  "nbformat": 4,
  "nbformat_minor": 0,
  "metadata": {
    "colab": {
      "provenance": [],
      "authorship_tag": "ABX9TyPYup5SGir+1HrL0yRWT0Wk",
      "include_colab_link": true
    },
    "kernelspec": {
      "name": "python3",
      "display_name": "Python 3"
    },
    "language_info": {
      "name": "python"
    }
  },
  "cells": [
    {
      "cell_type": "markdown",
      "metadata": {
        "id": "view-in-github",
        "colab_type": "text"
      },
      "source": [
        "<a href=\"https://colab.research.google.com/github/vinoda3827/editREADME/blob/main/currency_cnv.ipynb\" target=\"_parent\"><img src=\"https://colab.research.google.com/assets/colab-badge.svg\" alt=\"Open In Colab\"/></a>"
      ]
    },
    {
      "cell_type": "code",
      "source": [
        "pip install selenium"
      ],
      "metadata": {
        "id": "V-_cqW41fATt"
      },
      "execution_count": null,
      "outputs": []
    },
    {
      "cell_type": "code",
      "execution_count": null,
      "metadata": {
        "id": "5gQ5s23-etkz"
      },
      "outputs": [],
      "source": [
        "\n",
        "import requests\n",
        "\n",
        "# Replace 'YOUR_API_KEY' with your actual API key\n",
        "API_KEY = 'https://api.freecurrencyapi.com/v1/latest?apikey=fca_live_SGNHumnvIhlNoFUIcLQnkgLeZgTH8TfALAY6kGp3'\n",
        "BASE_URL = 'https://open.er-api.com/v6/latest/'\n",
        "\n",
        "def convert_currency(from_currency, to_currency, amount):\n",
        "    url = f'{BASE_URL}{from_currency.upper()}'\n",
        "    params = {'apikey': API_KEY, 'symbols': to_currency.upper()}\n",
        "\n",
        "    response = requests.get(url, params=params)\n",
        "    data = response.json()\n",
        "\n",
        "    if 'error' in data:\n",
        "        print(f'Error: {data[\"error\"][\"message\"]}')\n",
        "        return None\n",
        "\n",
        "    if to_currency.upper() not in data['rates']:\n",
        "        print(f'Error: Currency code \"{to_currency}\" not found')\n",
        "        return None\n",
        "\n",
        "    rate = data['rates'][to_currency.upper()]\n",
        "    converted_amount = amount * rate\n",
        "    return converted_amount\n",
        "\n",
        "# Example usage\n",
        "from_currency = input(\"from which currency:\")\n",
        "to_currency = input(\"to which currency:\")\n",
        "amount = int(input(\"enter ammount:\"))\n",
        "converted_amount = convert_currency(from_currency, to_currency, amount)\n",
        "print(f'{amount} {from_currency.upper()} = {converted_amount:.2f} {to_currency.upper()}')"
      ]
    }
  ]
}