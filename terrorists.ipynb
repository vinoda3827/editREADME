{
  "nbformat": 4,
  "nbformat_minor": 0,
  "metadata": {
    "colab": {
      "provenance": [],
      "authorship_tag": "ABX9TyNLiVqso/F050EhuTYg3aWh",
      "include_colab_link": true
    },
    "kernelspec": {
      "name": "python3",
      "display_name": "Python 3"
    },
    "language_info": {
      "name": "python"
    }
  },
  "cells": [
    {
      "cell_type": "markdown",
      "metadata": {
        "id": "view-in-github",
        "colab_type": "text"
      },
      "source": [
        "<a href=\"https://colab.research.google.com/github/vinoda3827/editREADME/blob/main/terrorists.ipynb\" target=\"_parent\"><img src=\"https://colab.research.google.com/assets/colab-badge.svg\" alt=\"Open In Colab\"/></a>"
      ]
    },
    {
      "cell_type": "code",
      "execution_count": 4,
      "metadata": {
        "id": "1_FNnc-RibJd"
      },
      "outputs": [],
      "source": [
        "import requests\n",
        "\n",
        "from bs4 import BeautifulSoup\n",
        "\n",
        "import pandas as pd\n",
        "url='https://en.wikipedia.org/wiki/List_of_states_and_territories_of_the_United_States'\n",
        "\n",
        "data=requests.get(url)\n",
        "\n",
        "soup=BeautifulSoup(data.content,'html.parser')\n",
        "\n",
        "list1=soup.find('table',class_='wikitable')\n",
        "\n",
        "states=[]\n",
        "for i in list1.find_all('tr')[2:]:\n",
        "    states.append(i.find('a').text)\n"
      ]
    }
  ]
}