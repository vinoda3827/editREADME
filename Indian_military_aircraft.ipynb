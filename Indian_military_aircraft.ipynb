{
  "nbformat": 4,
  "nbformat_minor": 0,
  "metadata": {
    "colab": {
      "provenance": [],
      "authorship_tag": "ABX9TyO+0uh0GTxzuWOx6R9fPA1x",
      "include_colab_link": true
    },
    "kernelspec": {
      "name": "python3",
      "display_name": "Python 3"
    },
    "language_info": {
      "name": "python"
    }
  },
  "cells": [
    {
      "cell_type": "markdown",
      "metadata": {
        "id": "view-in-github",
        "colab_type": "text"
      },
      "source": [
        "<a href=\"https://colab.research.google.com/github/vinoda3827/editREADME/blob/main/Indian_military_aircraft.ipynb\" target=\"_parent\"><img src=\"https://colab.research.google.com/assets/colab-badge.svg\" alt=\"Open In Colab\"/></a>"
      ]
    },
    {
      "cell_type": "code",
      "execution_count": 1,
      "metadata": {
        "colab": {
          "base_uri": "https://localhost:8080/"
        },
        "id": "ynVebSkCYKmO",
        "outputId": "2adb2fd8-7a75-4eac-dfc9-f41a75aeeecb"
      },
      "outputs": [
        {
          "output_type": "stream",
          "name": "stdout",
          "text": [
            "MiG-21\n",
            "\n",
            "MiG-29\n",
            "\n",
            "conversion trainer\n",
            "\n",
            "HAL Tejas\n",
            "\n",
            "conversion trainer\n",
            "\n",
            "multirole\n",
            "\n",
            "Mirage 2000\n",
            "\n",
            "conversion trainer\n",
            "\n",
            "Sukhoi Su-30MKI\n",
            "\n",
            "Dassault Rafale\n",
            "\n",
            "multirole\n",
            "\n",
            "SEPECAT Jaguar\n",
            "\n",
            "conversion trainer\n",
            "\n",
            "Embraer R-99\n",
            "\n",
            "Beriev A-50\n",
            "\n",
            "Boeing 707\n",
            "\n",
            "Global 5000\n",
            "\n",
            "Gulfstream G100\n",
            "\n",
            "Gulfstream III\n",
            "\n",
            "Ilyushin Il-78\n",
            "\n",
            "Boeing 737\n",
            "\n",
            "Boeing 777\n",
            "\n",
            "Embraer Legacy 600\n",
            "\n",
            "Boeing C-17\n",
            "\n",
            "Ilyushin Il-76\n",
            "\n",
            "Airbus A321\n",
            "\n",
            "Antonov An-32\n",
            "\n",
            "Dornier Do 228\n",
            "\n",
            "EADS CASA C-295\n",
            "\n",
            "C-130J Super Hercules\n",
            "\n",
            "Hawker Siddeley HS 748\n",
            "\n",
            "Mil Mi-17\n",
            "\n",
            "Mil Mi-24\n",
            "\n",
            "HAL Rudra\n",
            "\n",
            "HAL Dhruv\n",
            "\n",
            "Alouette III\n",
            "\n",
            "SA 315B Lama\n",
            "\n",
            "Boeing AH-64\n",
            "\n",
            "CH-47 Chinook\n",
            "\n",
            "HAL Light Utility Helicopter\n",
            "\n",
            "HAL Prachand\n",
            "\n",
            "BAE Hawk\n",
            "\n",
            "HAL Kiran\n",
            "\n",
            "HAL HTT-40\n",
            "\n",
            "Pilatus PC-7\n",
            "\n",
            "Pipistrel Virus\n",
            "\n",
            "IAI Heron\n",
            "\n",
            "IAI Heron Mk 2\n",
            "\n",
            "IAI Searcher\n",
            "\n",
            "ALS-50\n",
            "\n"
          ]
        }
      ],
      "source": [
        "import requests\n",
        "import pandas as pd\n",
        "from bs4 import BeautifulSoup\n",
        "\n",
        "url='https://en.wikipedia.org/wiki/List_of_active_Indian_military_aircraft'\n",
        "data=requests.get(url)\n",
        "\n",
        "soup=BeautifulSoup(data.content,'html.parser')\n",
        "list1=soup.find('table',class_='wikitable')\n",
        "\n",
        "for i in list1.find_all('tr')[2:]:\n",
        "  try:\n",
        "    print(i.find('td').text)\n",
        "  except:\n",
        "    continue"
      ]
    }
  ]
}